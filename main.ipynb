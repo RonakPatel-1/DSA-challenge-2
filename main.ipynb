# importing os module
import os

# Join various path components
folder_location=os.path.join("download","training_set")
mid_with_ratings={}
# This dic will store movie id in key and all ratings of that movie in a list 

for filename in os.listdir(folder_location):
    file_location=os.path.join(folder_location,filename)

    f=open(file_location)
    data=f.readlines()

    movie_id=int(data[0].split(":")[0])
    ratings=[]
#   Let us collect all the ratings of the movie and pushing it into dictionary with the movie id
    for info in range(1,len(data)):
        d=data[info]
        splitted_data=d.split(",")
        ratings.append(int(splitted_data[1]))
#    print(filename)   
    mid_with_ratings[movie_id]=ratings
    
# to collect  movie_name as key and movie_name as value and storing it in a dictionary
mname_with_mid={}
# movie_name_with_movie_id


file_location=os.path.join("download","movie_titles.txt")

f=open(file_location)
data=f.readlines()


for info in data:
    splitted_data=info.split(",")
    
    movie_name=splitted_data[2][:-1] # Collecting movie name
    movie_id=int(splitted_data[0])   # collecting movie_id
    
    # Inserting into dictionary
    mname_with_mid[movie_id]=movie_name
import numpy as np
from sklearn.metrics.pairwise import cosine_similarity

def recommend(mid):
    similar_movies={}
    ratings_count=len(mid_with_ratings[mid])
    average_rating=sum(mid_with_ratings[mid])/len(mid_with_ratings[mid])

    A=np.array([ratings_count,average_rating])
    
    for key in mid_with_ratings.keys():
        r_count=len(mid_with_ratings[key])
        a_rating=sum(mid_with_ratings[key])/len(mid_with_ratings[key])
        
        B=np.array([r_count,a_rating])
        result=cosine_similarity(A.reshape(1,-1),B.reshape(1,-1))
        
        similar_movies[mname_with_mid[key]]=result[0][0]
    
    similar_movies = sorted(similar_movies.items(), key=lambda x: x[1], reverse=True)[1:11]
    for movie in similar_movies:
        print(movie[0])
m_name=input("Enter the movie name ")

# getting the movie id stored in mname_with_mid dictionary

# taking O(n) time
for key in mname_with_mid.keys():
         if mname_with_mid[key] == m_name:
            movie_id= key
            break
            
print("Kindly hold on for few minute and you will get the revcommedataion as below \n")        
recommend(movie_id)