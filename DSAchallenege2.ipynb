{
  "nbformat": 4,
  "nbformat_minor": 0,
  "metadata": {
    "colab": {
      "name": "Untitled2.ipynb",
      "provenance": [],
      "collapsed_sections": []
    },
    "kernelspec": {
      "name": "python3",
      "display_name": "Python 3"
    },
    "language_info": {
      "name": "python"
    }
  },
  "cells": [
    {
      "cell_type": "code",
      "execution_count": null,
      "metadata": {
        "id": "_BRZQHEHb0Xx"
      },
      "outputs": [],
      "source": [
        ""
      ]
    },
    {
      "cell_type": "code",
      "source": [
        "# To import Os Module\n",
        "import os\n",
        "\n",
        "# Join Download folder and the data set/ components\n",
        "folder_location=os.path.join(\"download\",\"training_set\")\n",
        "\n",
        "mid_with_ratings={}\n",
        "# It will store movie id as key and all ratings of that movie in a list \n",
        "\n",
        "for filename in os.listdir(folder_location):\n",
        "    file_location=os.path.join(folder_location,filename)\n",
        "\n",
        "    f=open(file_location)\n",
        "    data=f.readlines()\n",
        "\n",
        "    movie_id=int(data[0].split(\":\")[0])\n",
        "    ratings=[]\n",
        "    \n",
        "#    Collecting all the ratings of the movie and pushing it into dictionary with the movie id\n",
        "    for info in range(1,len(data)):\n",
        "        d=data[info]\n",
        "        splitted_data=d.split(\",\")\n",
        "        ratings.append(int(splitted_data[1]))\n",
        "#     print(filename)   \n",
        "    mid_with_ratings[movie_id]=ratings\n",
        "    \n",
        "\n",
        "# Collecting  movie_name as key and movie_name as value nd storing it in a dictionary\n",
        "mname_with_mid={}\n",
        "# movie_name_with_movie_id\n",
        "\n",
        "\n",
        "file_location=os.path.join(\"download\",\"movie_titles.txt\")\n",
        "\n",
        "f=open(file_location)\n",
        "data=f.readlines()\n",
        "\n",
        "\n",
        "for info in data:\n",
        "    splitted_data=info.split(\",\")\n",
        "    \n",
        "    movie_name=splitted_data[2][:-1] # Collecting movie name\n",
        "    movie_id=int(splitted_data[0])   # collecting movie_id\n",
        "    \n",
        "    # Inserting into dictionary\n",
        "    mname_with_mid[movie_id]=movie_name\n",
        "\n",
        "import numpy as np\n",
        "from sklearn.metrics.pairwise import cosine_similarity\n",
        "\n",
        "def recommend(mid):\n",
        "    similar_movies={}\n",
        "    ratings_count=len(mid_with_ratings[mid])\n",
        "    average_rating=sum(mid_with_ratings[mid])/len(mid_with_ratings[mid])\n",
        "\n",
        "    A=np.array([ratings_count,average_rating])\n",
        "    \n",
        "    for key in mid_with_ratings.keys():\n",
        "        r_count=len(mid_with_ratings[key])\n",
        "        a_rating=sum(mid_with_ratings[key])/len(mid_with_ratings[key])\n",
        "        \n",
        "        B=np.array([r_count,a_rating])\n",
        "        result=cosine_similarity(A.reshape(1,-1),B.reshape(1,-1))\n",
        "        \n",
        "        similar_movies[mname_with_mid[key]]=result[0][0]\n",
        "    \n",
        "    similar_movies = sorted(similar_movies.items(), key=lambda x: x[1], reverse=True)[1:11]\n",
        "    for movie in similar_movies:\n",
        "        print(movie[0])\n",
        "\n",
        "m_name=input(\"Please enter the movie name which you like the most \")\n",
        "\n",
        "# To get the the movie id stored in mname_with_mid dictionary\n",
        "\n",
        "# taking O(n) time\n",
        "for key in mname_with_mid.keys():\n",
        "         if mname_with_mid[key] == m_name:\n",
        "            movie_id= key\n",
        "            break\n",
        "            \n",
        "print(\" Please have patience we are search and will recommend movies below in a sec or so...\\n\")        \n",
        "recommend(movie_id)\n",
        "\n"
      ],
      "metadata": {
        "id": "H99PqfqCXHNT"
      },
      "execution_count": null,
      "outputs": []
    }
  ]
}